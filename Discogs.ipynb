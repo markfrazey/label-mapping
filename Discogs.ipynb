{
 "cells": [
  {
   "cell_type": "code",
   "execution_count": 1,
   "id": "assigned-prague",
   "metadata": {},
   "outputs": [
    {
     "name": "stdout",
     "output_type": "stream",
     "text": [
      "Requirement already satisfied: python3-discogs-client in /opt/conda/lib/python3.8/site-packages (2.6)\n",
      "Requirement already satisfied: requests in /opt/conda/lib/python3.8/site-packages (from python3-discogs-client) (2.25.1)\n",
      "Requirement already satisfied: oauthlib in /opt/conda/lib/python3.8/site-packages (from python3-discogs-client) (3.0.1)\n",
      "Requirement already satisfied: python-dateutil in /opt/conda/lib/python3.8/site-packages (from python3-discogs-client) (2.8.1)\n",
      "Requirement already satisfied: six>=1.5 in /opt/conda/lib/python3.8/site-packages (from python-dateutil->python3-discogs-client) (1.15.0)\n",
      "Requirement already satisfied: chardet<5,>=3.0.2 in /opt/conda/lib/python3.8/site-packages (from requests->python3-discogs-client) (4.0.0)\n",
      "Requirement already satisfied: idna<3,>=2.5 in /opt/conda/lib/python3.8/site-packages (from requests->python3-discogs-client) (2.10)\n",
      "Requirement already satisfied: certifi>=2017.4.17 in /opt/conda/lib/python3.8/site-packages (from requests->python3-discogs-client) (2020.12.5)\n",
      "Requirement already satisfied: urllib3<1.27,>=1.21.1 in /opt/conda/lib/python3.8/site-packages (from requests->python3-discogs-client) (1.26.3)\n"
     ]
    }
   ],
   "source": [
    "!pip install python3-discogs-client"
   ]
  },
  {
   "cell_type": "code",
   "execution_count": 2,
   "id": "fatal-hybrid",
   "metadata": {},
   "outputs": [],
   "source": [
    "import discogs_client\n",
    "import requests"
   ]
  },
  {
   "cell_type": "code",
   "execution_count": 3,
   "id": "nervous-local",
   "metadata": {},
   "outputs": [],
   "source": [
    "d = discogs_client.Client(\n",
    "    'my_user_agent/1.0',\n",
    "    consumer_key='your_consumer_key',\n",
    "    consumer_secret='your_consumer_secret'\n",
    ")"
   ]
  },
  {
   "cell_type": "code",
   "execution_count": null,
   "id": "centered-advice",
   "metadata": {},
   "outputs": [
    {
     "name": "stdout",
     "output_type": "stream",
     "text": [
      "10:22PM\n",
      "21 Black Jack\n",
      "A Grande Ópera\n",
      "AB Knäppupp\n",
      "Abstract Sounds Music Ltd.\n",
      "Aftermath/Interscope Records\n",
      "Almo Sounds + Sights\n",
      "Almo Sounds\n",
      "À La Carte\n",
      "Amadeo Österreichische Schallplatten Ges.m.b.H.\n",
      "A La Recherche De L'Esprit Français\n",
      "Angel 45 Sonic Series\n",
      "Angel Eminence\n",
      "Angel International Series\n",
      "Angel Records Digital\n",
      "Angel Red Line\n",
      "Angel Treasury Series\n",
      "Angel Voices\n",
      "Bethlehem Series (2)\n",
      "Broadway Classics\n",
      "Broadway Angel\n",
      "Champagne Operetta Series\n",
      "Clasicos de Concierto\n",
      "Discos Angel\n",
      "Geistliche Musik Series\n",
      "Jazz Series (4)\n",
      "Library Series of Chamber Music\n",
      "Melodiya/Angel\n",
      "Music Of The World (8)\n",
      "Music Of The Zodiac\n",
      "Music Today (5)\n",
      "Paul Hindemith Conducts His Own Works\n",
      "Great Recordings Of The Century (3)\n",
      "Melodiya/Seraphim\n",
      "Seraphim Classics\n",
      "The Seraphim Guide To The Classics\n",
      "Seraphim\n",
      "The Immortal Art Of Wilhelm Furtwängler\n",
      "世界音楽全集\n",
      "Angel Records\n",
      "Ape Shit, Inc.\n",
      "Apeshit\n",
      "APESHIT, INC.\n",
      "Arsenal Music\n",
      "ASW.White Label\n",
      "Astralwerks\n",
      "Astralwerks Records\n",
      "20th Century Viola Music\n",
      "ASV Digital\n",
      "ASV Mono\n",
      "ASV Platinum\n",
      "ASV Transacord\n",
      "Beautiful Music (2)\n",
      "British Light Music Heritage\n",
      "Quicksilva\n",
      "The Great French Stars\n",
      "The String Quartets\n",
      "White Line Light Classics\n",
      "ASV\n",
      "ASV Gold\n",
      "ASV Ltd.\n",
      "History (3)\n",
      "Atmosphere (2)\n",
      "Audior\n",
      "AVI Antiques\n",
      "Avi Gospel\n",
      "AVI Records\n",
      "Back To Soul\n",
      "Hip-Hop Heroes\n",
      "Pop Sounds\n",
      "Back To Black\n",
      "Bitstream Media Lab\n",
      "Black Box\n",
      "Black Box Music Limited\n",
      "Bob Marley Official Store\n",
      "Bravado\n",
      "Bravado Merchandising\n",
      "Bravado International Group Ltd.\n",
      "... E Ora Balliamo Con Il Jazz!\n"
     ]
    }
   ],
   "source": [
    "label_ids = [38404, 353657, 2346]\n",
    "\n",
    "def recursive_label_search(label, depth):\n",
    "    current_label = {\n",
    "        \"name\": label.name,\n",
    "        \"id\": label.id,\n",
    "        \"sublabels\": []\n",
    "    }\n",
    "    for sublabel in label.sublabels:\n",
    "        if depth > 0:\n",
    "            current_label[\"sublabels\"].append(recursive_label_search(sublabel, depth - 1))\n",
    "    print(current_label[\"name\"])\n",
    "    return current_label\n",
    "\n",
    "warner = d.label(38404)\n",
    "result = recursive_label_search(warner, 3)"
   ]
  }
 ],
 "metadata": {
  "kernelspec": {
   "display_name": "Python 3",
   "language": "python",
   "name": "python3"
  },
  "language_info": {
   "codemirror_mode": {
    "name": "ipython",
    "version": 3
   },
   "file_extension": ".py",
   "mimetype": "text/x-python",
   "name": "python",
   "nbconvert_exporter": "python",
   "pygments_lexer": "ipython3",
   "version": "3.8.8"
  }
 },
 "nbformat": 4,
 "nbformat_minor": 5
}
